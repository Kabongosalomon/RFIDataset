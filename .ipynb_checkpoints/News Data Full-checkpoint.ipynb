{
 "cells": [
  {
   "cell_type": "code",
   "execution_count": 2,
   "metadata": {},
   "outputs": [],
   "source": [
    "import requests as rq\n",
    "import bs4 as bs\n",
    "import json\n",
    "import traceback\n",
    "import re\n",
    "import numpy as np\n",
    "import json\n",
    "from selenium import webdriver\n",
    "from selenium.webdriver.support.ui import WebDriverWait\n",
    "from selenium.webdriver.common.by import By\n",
    "from selenium.webdriver.support import expected_conditions as EC\n",
    "import time\n",
    "import glob, os"
   ]
  },
  {
   "cell_type": "markdown",
   "metadata": {},
   "source": [
    "## 1. BBC"
   ]
  },
  {
   "cell_type": "code",
   "execution_count": 4,
   "metadata": {},
   "outputs": [],
   "source": [
    "links_to_visit = {}"
   ]
  },
  {
   "cell_type": "code",
   "execution_count": 5,
   "metadata": {},
   "outputs": [],
   "source": [
    "def get_link(url):\n",
    "    home_bbc = rq.get(url)\n",
    "    soup = bs.BeautifulSoup(home_bbc.text, 'html.parser')\n",
    "    for a in soup.find_all('a', href=True):\n",
    "        if a.text:\n",
    "            link = a[\"href\"]\n",
    "            if link.startswith(\"/swahili/habari-\") or link.startswith(\"/swahili/michezo-\"):\n",
    "                if link not in list(links_to_visit.keys()):\n",
    "                    links_to_visit[link] = False"
   ]
  },
  {
   "cell_type": "code",
   "execution_count": 6,
   "metadata": {},
   "outputs": [
    {
     "data": {
      "text/plain": [
       "47"
      ]
     },
     "execution_count": 6,
     "metadata": {},
     "output_type": "execute_result"
    }
   ],
   "source": [
    "get_link(\"https://www.bbc.com/swahili\")\n",
    "get_link(\"https://www.bbc.com/swahili/michezo\")\n",
    "len(links_to_visit)"
   ]
  },
  {
   "cell_type": "code",
   "execution_count": 7,
   "metadata": {},
   "outputs": [],
   "source": [
    "for link in list(links_to_visit.keys()):\n",
    "    link_url = \"https://www.bbc.com/\" + link\n",
    "    if links_to_visit[link] == False:\n",
    "        get_link(link_url)\n",
    "        links_to_visit[link] = True\n",
    "        \n",
    "        no_link = all(value == True for value in list(links_to_visit.values()))\n",
    "        if no_link:\n",
    "            break"
   ]
  },
  {
   "cell_type": "code",
   "execution_count": 8,
   "metadata": {},
   "outputs": [
    {
     "data": {
      "text/plain": [
       "104"
      ]
     },
     "execution_count": 8,
     "metadata": {},
     "output_type": "execute_result"
    }
   ],
   "source": [
    "len(list(links_to_visit))"
   ]
  },
  {
   "cell_type": "markdown",
   "metadata": {},
   "source": [
    "## 2. RFI"
   ]
  },
  {
   "cell_type": "code",
   "execution_count": 8,
   "metadata": {},
   "outputs": [],
   "source": [
    "headers = {'User-Agent': 'Mozilla/5.0 (Windows NT 10.0; Win64; x64) AppleWebKit/537.36 (KHTML, like Gecko) Chrome/70.0.3538.77 Safari/537.36'}"
   ]
  },
  {
   "cell_type": "code",
   "execution_count": 2,
   "metadata": {},
   "outputs": [
    {
     "name": "stdout",
     "output_type": "stream",
     "text": [
      "Reached bottom of page\n"
     ]
    },
    {
     "name": "stderr",
     "output_type": "stream",
     "text": [
      "Traceback (most recent call last):\n",
      "  File \"<ipython-input-2-e97f09742b74>\", line 22, in <module>\n",
      "    loadmore = WebDriverWait(driver, 120).until(EC.visibility_of_element_located((By.CLASS_NAME, \"btn-load-more\")))\n",
      "  File \"/home/aims/.local/lib/python3.7/site-packages/selenium/webdriver/support/wait.py\", line 71, in until\n",
      "    value = method(self._driver)\n",
      "  File \"/home/aims/.local/lib/python3.7/site-packages/selenium/webdriver/support/expected_conditions.py\", line 128, in __call__\n",
      "    return _element_if_visible(_find_element(driver, self.locator))\n",
      "  File \"/home/aims/.local/lib/python3.7/site-packages/selenium/webdriver/support/expected_conditions.py\", line 415, in _find_element\n",
      "    raise e\n",
      "  File \"/home/aims/.local/lib/python3.7/site-packages/selenium/webdriver/support/expected_conditions.py\", line 411, in _find_element\n",
      "    return driver.find_element(*by)\n",
      "  File \"/home/aims/.local/lib/python3.7/site-packages/selenium/webdriver/remote/webdriver.py\", line 978, in find_element\n",
      "    'value': value})['value']\n",
      "  File \"/home/aims/.local/lib/python3.7/site-packages/selenium/webdriver/remote/webdriver.py\", line 321, in execute\n",
      "    self.error_handler.check_response(response)\n",
      "  File \"/home/aims/.local/lib/python3.7/site-packages/selenium/webdriver/remote/errorhandler.py\", line 242, in check_response\n",
      "    raise exception_class(message, screen, stacktrace)\n",
      "selenium.common.exceptions.WebDriverException: Message: chrome not reachable\n",
      "  (Session info: chrome=79.0.3945.88)\n",
      "\n"
     ]
    },
    {
     "ename": "WebDriverException",
     "evalue": "Message: chrome not reachable\n  (Session info: chrome=79.0.3945.88)\n",
     "output_type": "error",
     "traceback": [
      "\u001b[0;31m---------------------------------------------------------------------------\u001b[0m",
      "\u001b[0;31mWebDriverException\u001b[0m                        Traceback (most recent call last)",
      "\u001b[0;32m<ipython-input-2-e97f09742b74>\u001b[0m in \u001b[0;36m<module>\u001b[0;34m\u001b[0m\n\u001b[1;32m     28\u001b[0m         \u001b[0;32mbreak\u001b[0m\u001b[0;34m\u001b[0m\u001b[0;34m\u001b[0m\u001b[0m\n\u001b[1;32m     29\u001b[0m \u001b[0;34m\u001b[0m\u001b[0m\n\u001b[0;32m---> 30\u001b[0;31m \u001b[0msoup_rfi\u001b[0m \u001b[0;34m=\u001b[0m \u001b[0mbs\u001b[0m\u001b[0;34m.\u001b[0m\u001b[0mBeautifulSoup\u001b[0m\u001b[0;34m(\u001b[0m\u001b[0mdriver\u001b[0m\u001b[0;34m.\u001b[0m\u001b[0mpage_source\u001b[0m\u001b[0;34m,\u001b[0m\u001b[0;34m'html.parser'\u001b[0m\u001b[0;34m)\u001b[0m\u001b[0;34m\u001b[0m\u001b[0;34m\u001b[0m\u001b[0m\n\u001b[0m\u001b[1;32m     31\u001b[0m \u001b[0;31m# home_rfi.text\u001b[0m\u001b[0;34m\u001b[0m\u001b[0;34m\u001b[0m\u001b[0;34m\u001b[0m\u001b[0m\n\u001b[1;32m     32\u001b[0m \u001b[0;31m# soup_rfi = bs.BeautifulSoup(home_rfi.text, 'html.parser')\u001b[0m\u001b[0;34m\u001b[0m\u001b[0;34m\u001b[0m\u001b[0;34m\u001b[0m\u001b[0m\n",
      "\u001b[0;32m~/.local/lib/python3.7/site-packages/selenium/webdriver/remote/webdriver.py\u001b[0m in \u001b[0;36mpage_source\u001b[0;34m(self)\u001b[0m\n\u001b[1;32m    677\u001b[0m             \u001b[0mdriver\u001b[0m\u001b[0;34m.\u001b[0m\u001b[0mpage_source\u001b[0m\u001b[0;34m\u001b[0m\u001b[0;34m\u001b[0m\u001b[0m\n\u001b[1;32m    678\u001b[0m         \"\"\"\n\u001b[0;32m--> 679\u001b[0;31m         \u001b[0;32mreturn\u001b[0m \u001b[0mself\u001b[0m\u001b[0;34m.\u001b[0m\u001b[0mexecute\u001b[0m\u001b[0;34m(\u001b[0m\u001b[0mCommand\u001b[0m\u001b[0;34m.\u001b[0m\u001b[0mGET_PAGE_SOURCE\u001b[0m\u001b[0;34m)\u001b[0m\u001b[0;34m[\u001b[0m\u001b[0;34m'value'\u001b[0m\u001b[0;34m]\u001b[0m\u001b[0;34m\u001b[0m\u001b[0;34m\u001b[0m\u001b[0m\n\u001b[0m\u001b[1;32m    680\u001b[0m \u001b[0;34m\u001b[0m\u001b[0m\n\u001b[1;32m    681\u001b[0m     \u001b[0;32mdef\u001b[0m \u001b[0mclose\u001b[0m\u001b[0;34m(\u001b[0m\u001b[0mself\u001b[0m\u001b[0;34m)\u001b[0m\u001b[0;34m:\u001b[0m\u001b[0;34m\u001b[0m\u001b[0;34m\u001b[0m\u001b[0m\n",
      "\u001b[0;32m~/.local/lib/python3.7/site-packages/selenium/webdriver/remote/webdriver.py\u001b[0m in \u001b[0;36mexecute\u001b[0;34m(self, driver_command, params)\u001b[0m\n\u001b[1;32m    319\u001b[0m         \u001b[0mresponse\u001b[0m \u001b[0;34m=\u001b[0m \u001b[0mself\u001b[0m\u001b[0;34m.\u001b[0m\u001b[0mcommand_executor\u001b[0m\u001b[0;34m.\u001b[0m\u001b[0mexecute\u001b[0m\u001b[0;34m(\u001b[0m\u001b[0mdriver_command\u001b[0m\u001b[0;34m,\u001b[0m \u001b[0mparams\u001b[0m\u001b[0;34m)\u001b[0m\u001b[0;34m\u001b[0m\u001b[0;34m\u001b[0m\u001b[0m\n\u001b[1;32m    320\u001b[0m         \u001b[0;32mif\u001b[0m \u001b[0mresponse\u001b[0m\u001b[0;34m:\u001b[0m\u001b[0;34m\u001b[0m\u001b[0;34m\u001b[0m\u001b[0m\n\u001b[0;32m--> 321\u001b[0;31m             \u001b[0mself\u001b[0m\u001b[0;34m.\u001b[0m\u001b[0merror_handler\u001b[0m\u001b[0;34m.\u001b[0m\u001b[0mcheck_response\u001b[0m\u001b[0;34m(\u001b[0m\u001b[0mresponse\u001b[0m\u001b[0;34m)\u001b[0m\u001b[0;34m\u001b[0m\u001b[0;34m\u001b[0m\u001b[0m\n\u001b[0m\u001b[1;32m    322\u001b[0m             response['value'] = self._unwrap_value(\n\u001b[1;32m    323\u001b[0m                 response.get('value', None))\n",
      "\u001b[0;32m~/.local/lib/python3.7/site-packages/selenium/webdriver/remote/errorhandler.py\u001b[0m in \u001b[0;36mcheck_response\u001b[0;34m(self, response)\u001b[0m\n\u001b[1;32m    240\u001b[0m                 \u001b[0malert_text\u001b[0m \u001b[0;34m=\u001b[0m \u001b[0mvalue\u001b[0m\u001b[0;34m[\u001b[0m\u001b[0;34m'alert'\u001b[0m\u001b[0;34m]\u001b[0m\u001b[0;34m.\u001b[0m\u001b[0mget\u001b[0m\u001b[0;34m(\u001b[0m\u001b[0;34m'text'\u001b[0m\u001b[0;34m)\u001b[0m\u001b[0;34m\u001b[0m\u001b[0;34m\u001b[0m\u001b[0m\n\u001b[1;32m    241\u001b[0m             \u001b[0;32mraise\u001b[0m \u001b[0mexception_class\u001b[0m\u001b[0;34m(\u001b[0m\u001b[0mmessage\u001b[0m\u001b[0;34m,\u001b[0m \u001b[0mscreen\u001b[0m\u001b[0;34m,\u001b[0m \u001b[0mstacktrace\u001b[0m\u001b[0;34m,\u001b[0m \u001b[0malert_text\u001b[0m\u001b[0;34m)\u001b[0m\u001b[0;34m\u001b[0m\u001b[0;34m\u001b[0m\u001b[0m\n\u001b[0;32m--> 242\u001b[0;31m         \u001b[0;32mraise\u001b[0m \u001b[0mexception_class\u001b[0m\u001b[0;34m(\u001b[0m\u001b[0mmessage\u001b[0m\u001b[0;34m,\u001b[0m \u001b[0mscreen\u001b[0m\u001b[0;34m,\u001b[0m \u001b[0mstacktrace\u001b[0m\u001b[0;34m)\u001b[0m\u001b[0;34m\u001b[0m\u001b[0;34m\u001b[0m\u001b[0m\n\u001b[0m\u001b[1;32m    243\u001b[0m \u001b[0;34m\u001b[0m\u001b[0m\n\u001b[1;32m    244\u001b[0m     \u001b[0;32mdef\u001b[0m \u001b[0m_value_or_default\u001b[0m\u001b[0;34m(\u001b[0m\u001b[0mself\u001b[0m\u001b[0;34m,\u001b[0m \u001b[0mobj\u001b[0m\u001b[0;34m,\u001b[0m \u001b[0mkey\u001b[0m\u001b[0;34m,\u001b[0m \u001b[0mdefault\u001b[0m\u001b[0;34m)\u001b[0m\u001b[0;34m:\u001b[0m\u001b[0;34m\u001b[0m\u001b[0;34m\u001b[0m\u001b[0m\n",
      "\u001b[0;31mWebDriverException\u001b[0m: Message: chrome not reachable\n  (Session info: chrome=79.0.3945.88)\n"
     ]
    }
   ],
   "source": [
    "links_visit_rfi = {}\n",
    "load_more = \"btn-load-more alt more-loader\"\n",
    "\n",
    "seed = [\"http://sw.rfi.fr/ulaya/all/\", \n",
    "        \"http://sw.rfi.fr/amerika/all/\", \n",
    "        \"http://sw.rfi.fr/mashariki-ya-kati/all/\",\n",
    "        \"http://sw.rfi.fr/asia/all/\",\n",
    "        \"http://sw.rfi.fr/afrika/all/\",\n",
    "        \"http://sw.rfi.fr/eac/all/\",\n",
    "        \"http://sw.rfi.fr/siasa-uchumi/all/\",\n",
    "        \"http://sw.rfi.fr/afya-mazingira/all/\",\n",
    "        \"http://sw.rfi.fr/utamaduni/all/\",\n",
    "        \"http://sw.rfi.fr/michezo/all/\"]\n",
    "\n",
    "driver = webdriver.Chrome(executable_path=\"/home/aims/Downloads/chromedriver\")\n",
    "driver.get(\"http://sw.rfi.fr/afrika/all/\")\n",
    "loadmore = driver.find_element_by_class_name(\"cookie-bar_hide\")\n",
    "loadmore.click()\n",
    "while True:\n",
    "    try:\n",
    "        time.sleep(1)\n",
    "        loadmore = WebDriverWait(driver, 120).until(EC.visibility_of_element_located((By.CLASS_NAME, \"btn-load-more\")))\n",
    "        loadmore.click()\n",
    "        time.sleep(1)\n",
    "    except Exception:\n",
    "        print(\"Reached bottom of page\")\n",
    "        traceback.print_exc()\n",
    "        break\n",
    "\n",
    "soup_rfi = bs.BeautifulSoup(driver.page_source,'html.parser')\n",
    "# home_rfi.text\n",
    "# soup_rfi = bs.BeautifulSoup(home_rfi.text, 'html.parser')\n",
    "news_links = soup_rfi.find_all('a', href=True)\n",
    "len(news_links)"
   ]
  },
  {
   "cell_type": "code",
   "execution_count": 31,
   "metadata": {},
   "outputs": [],
   "source": [
    "def save_data(data, filename=\"final.txt\"):\n",
    "    with open(filename, 'w') as f:\n",
    "        for item in data:\n",
    "            f.write(\"%s\" % item)"
   ]
  },
  {
   "cell_type": "code",
   "execution_count": 74,
   "metadata": {},
   "outputs": [],
   "source": [
    "news_final = []\n",
    "\n",
    "for a in news_links:\n",
    "    if a.text:\n",
    "        link = a[\"href\"]\n",
    "        matching = re.match(r'^\\/michezo\\/\\d+\\w+', link)\n",
    "        if matching:\n",
    "            new_link = 'http://sw.rfi.fr'+link\n",
    "            news_final.append(new_link)\n",
    "\n",
    "save_data(news_final, 'michezo.txt')"
   ]
  },
  {
   "cell_type": "code",
   "execution_count": 97,
   "metadata": {},
   "outputs": [],
   "source": [
    "os.chdir(\"./\")\n",
    "final_data = []\n",
    "for file in glob.glob(\"*.txt\"):\n",
    "    with open(file) as f:\n",
    "        for line in f:\n",
    "            if line not in final_data:\n",
    "                final_data.append(line)"
   ]
  },
  {
   "cell_type": "code",
   "execution_count": 98,
   "metadata": {},
   "outputs": [
    {
     "data": {
      "text/plain": [
       "19593"
      ]
     },
     "execution_count": 98,
     "metadata": {},
     "output_type": "execute_result"
    }
   ],
   "source": [
    "save_data(final_data, 'news_final.txt')\n",
    "len(final_data)"
   ]
  },
  {
   "cell_type": "code",
   "execution_count": 3,
   "metadata": {},
   "outputs": [],
   "source": [
    "urls = []\n",
    "def get_urls():\n",
    "    with open(\"news_final.txt\") as f:\n",
    "        for line in f:\n",
    "            urls.append(line)"
   ]
  },
  {
   "cell_type": "code",
   "execution_count": 4,
   "metadata": {},
   "outputs": [],
   "source": [
    "get_urls()"
   ]
  },
  {
   "cell_type": "code",
   "execution_count": 5,
   "metadata": {},
   "outputs": [],
   "source": [
    "import asyncio\n",
    "import concurrent.futures\n",
    "import requests\n",
    "\n",
    "final_data = []\n",
    "\n",
    "def do_req(url):\n",
    "    return requests.get(url, headers=headers)\n",
    "\n",
    "async def main():\n",
    "\n",
    "    with concurrent.futures.ThreadPoolExecutor(max_workers=100) as executor:\n",
    "        loop = asyncio.get_event_loop()\n",
    "        futures = [\n",
    "            loop.run_in_executor(\n",
    "                executor, \n",
    "                do_req,\n",
    "                url\n",
    "            )\n",
    "            for url in urls\n",
    "        ]\n",
    "        for response in await asyncio.gather(*futures):\n",
    "            page_soup = bs.BeautifulSoup(response.text, 'html.parser')\n",
    "            news_title = page_soup.select_one('article h1')\n",
    "            news_title = news_title.text if news_title else ''\n",
    "            news_body = page_soup.select_one('article div[itemprop=\"articleBody\"]')\n",
    "            news_body = news_body.text if news_body else ''\n",
    "            final_data.append({'title' : news_title, 'content' : news_body})\n",
    "\n",
    "\n",
    "loop = asyncio.get_event_loop()\n",
    "loop.run_until_complete(main())"
   ]
  },
  {
   "cell_type": "code",
   "execution_count": 10,
   "metadata": {},
   "outputs": [],
   "source": [
    "full = []\n",
    "for item in final_data:\n",
    "    if item['content'] != '':\n",
    "        full.append(item)"
   ]
  },
  {
   "cell_type": "code",
   "execution_count": 11,
   "metadata": {},
   "outputs": [],
   "source": [
    "with open('data_full.json', 'w') as fout:\n",
    "    json.dump(full, fout)"
   ]
  },
  {
   "cell_type": "markdown",
   "metadata": {
    "heading_collapsed": true
   },
   "source": [
    "## 3. VOA"
   ]
  },
  {
   "cell_type": "markdown",
   "metadata": {
    "heading_collapsed": true,
    "hidden": true
   },
   "source": [
    "### 3.1 Swahili"
   ]
  },
  {
   "cell_type": "code",
   "execution_count": 37,
   "metadata": {
    "hidden": true
   },
   "outputs": [],
   "source": [
    "home_voa_swahili = rq.get(\"https://www.voaswahili.com/\")"
   ]
  },
  {
   "cell_type": "code",
   "execution_count": 38,
   "metadata": {
    "hidden": true
   },
   "outputs": [
    {
     "data": {
      "text/plain": [
       "<Response [200]>"
      ]
     },
     "execution_count": 38,
     "metadata": {},
     "output_type": "execute_result"
    }
   ],
   "source": [
    "home_voa_swahili"
   ]
  },
  {
   "cell_type": "markdown",
   "metadata": {
    "heading_collapsed": true,
    "hidden": true
   },
   "source": [
    "### 3.2 Lingala"
   ]
  },
  {
   "cell_type": "code",
   "execution_count": 3,
   "metadata": {},
   "outputs": [],
   "source": [
    "headers = {'User-Agent': 'Mozilla/5.0 (Windows NT 10.0; Win64; x64) AppleWebKit/537.36 (KHTML, like Gecko) Chrome/70.0.3538.77 Safari/537.36'}"
   ]
  },
  {
   "cell_type": "code",
   "execution_count": 32,
   "metadata": {},
   "outputs": [],
   "source": [
    "def save_data(data, filename=\"final.txt\"):\n",
    "    with open(filename, 'w') as f:\n",
    "        for item in data:\n",
    "            f.write(\"%s\\n\" % item)"
   ]
  },
  {
   "cell_type": "code",
   "execution_count": null,
   "metadata": {},
   "outputs": [],
   "source": [
    "links_visit_rfi = {}\n",
    "load_more = \"btn-load-more alt more-loader\"\n",
    "\n",
    "seed = [\"http://sw.rfi.fr/ulaya/all/\", \n",
    "        \"http://sw.rfi.fr/amerika/all/\", \n",
    "        \"http://sw.rfi.fr/mashariki-ya-kati/all/\",\n",
    "        \"http://sw.rfi.fr/asia/all/\",\n",
    "        \"http://sw.rfi.fr/afrika/all/\",\n",
    "        \"http://sw.rfi.fr/eac/all/\",\n",
    "        \"http://sw.rfi.fr/siasa-uchumi/all/\",\n",
    "        \"http://sw.rfi.fr/afya-mazingira/all/\",\n",
    "        \"http://sw.rfi.fr/utamaduni/all/\",\n",
    "        \"http://sw.rfi.fr/michezo/all/\"]\n",
    "\n",
    "for i in range(len(seed)):\n",
    "    driver = webdriver.Chrome(executable_path=\"/home/aims/Downloads/chromedriver\")\n",
    "    driver.get(\"http://sw.rfi.fr/afrika/all/\")\n",
    "    loadmore = driver.find_element_by_class_name(\"cookie-bar_hide\")\n",
    "    loadmore.click()\n",
    "    while True:\n",
    "        try:\n",
    "            time.sleep(1)\n",
    "            loadmore = WebDriverWait(driver, 120).until(EC.visibility_of_element_located((By.CLASS_NAME, \"btn-load-more\")))\n",
    "            loadmore.click()\n",
    "            time.sleep(1)\n",
    "        except Exception:\n",
    "            print(\"Reached bottom of page\")\n",
    "            traceback.print_exc()\n",
    "            break\n",
    "\n",
    "    soup_rfi = bs.BeautifulSoup(driver.page_source,'html.parser')\n",
    "    # home_rfi.text\n",
    "    # soup_rfi = bs.BeautifulSoup(home_rfi.text, 'html.parser')\n",
    "    news_links = soup_rfi.find_all('a', href=True)\n",
    "    len(news_links)"
   ]
  },
  {
   "cell_type": "code",
   "execution_count": 59,
   "metadata": {
    "hidden": true
   },
   "outputs": [
    {
     "name": "stdout",
     "output_type": "stream",
     "text": [
      "Reached bottom of page\n"
     ]
    },
    {
     "name": "stderr",
     "output_type": "stream",
     "text": [
      "Traceback (most recent call last):\n",
      "  File \"<ipython-input-59-0c64fe89a9cd>\", line 29, in <module>\n",
      "    loadmore = WebDriverWait(driver, 120).until(EC.visibility_of_element_located((By.CLASS_NAME, \"link-showMore\")))\n",
      "  File \"/home/aims/anaconda3/envs/aims/lib/python3.7/site-packages/selenium/webdriver/support/wait.py\", line 80, in until\n",
      "    raise TimeoutException(message, screen, stacktrace)\n",
      "selenium.common.exceptions.TimeoutException: Message: \n",
      "\n"
     ]
    }
   ],
   "source": [
    "# home_voa_lingala = rq.get(\"https://www.voalingala.com\") / https://www.voalingala.com/z/5744\n",
    "links_visit_rfi = {}\n",
    "load_more = \"btn-load-more alt more-loader\"\n",
    "\n",
    "seed = [\"http:///www.voalingala.com/z/5746\",\n",
    "        \"http:///www.voalingala.com/z/5745\",\n",
    "        \"http:///www.voalingala.com/z/5744\",\n",
    "        \"http:///www.voalingala.com/z/5776\",\n",
    "        \"http:///www.voalingala.com/z/5747\",\n",
    "        \"http:///www.voalingala.com/z/5748\",\n",
    "        \"http:///www.voalingala.com/z/5749\",\n",
    "        \"http:///www.voalingala.com/z/5760\",\n",
    "        \"http:///www.voalingala.com/z/5756\",\n",
    "        \"http:///www.voalingala.com/z/5753\",\n",
    "        \"http:///www.voalingala.com/z/5761\",\n",
    "        \"http:///www.voalingala.com/z/5759\",\n",
    "        \"http:///www.voalingala.com/z/5751\",\n",
    "        \"http:///www.voalingala.com/z/5757\",\n",
    "        \"http:///www.voalingala.com/z/5755\",\n",
    "        \"http:///www.voalingala.com/z/5758\",\n",
    "        \"http:///www.voalingala.com/z/5754\",\n",
    "        \"http:///www.voalingala.com/z/5752\"]\n",
    "\n",
    "driver = webdriver.Chrome(executable_path=\"./ChromeDriver/chromedriver_linux64/chromedriver\")\n",
    "driver.get(seed[0])\n",
    "while True:\n",
    "    try:\n",
    "        time.sleep(1)\n",
    "        loadmore = WebDriverWait(driver, 120).until(EC.visibility_of_element_located((By.CLASS_NAME, \"link-showMore\")))\n",
    "        loadmore.click()\n",
    "        time.sleep(1)\n",
    "    except Exception:\n",
    "        print(\"Reached bottom of page\")\n",
    "        traceback.print_exc()\n",
    "        break"
   ]
  },
  {
   "cell_type": "code",
   "execution_count": 62,
   "metadata": {},
   "outputs": [
    {
     "name": "stdout",
     "output_type": "stream",
     "text": [
      "Reached bottom of page\n",
      " We got 158 links\n",
      "Reached bottom of page\n",
      " We got 294 links\n",
      "Reached bottom of page\n",
      " We got 2100 links\n",
      "Reached bottom of page\n",
      " We got 162 links\n",
      "Reached bottom of page\n",
      " We got 360 links\n",
      "Reached bottom of page\n",
      " We got 236 links\n",
      "Reached bottom of page\n",
      " We got 150 links\n",
      "Reached bottom of page\n",
      " We got 98 links\n",
      "Reached bottom of page\n",
      " We got 200 links\n",
      "Reached bottom of page\n",
      " We got 300 links\n",
      "Reached bottom of page\n",
      " We got 90 links\n",
      "Reached bottom of page\n",
      " We got 438 links\n",
      "Reached bottom of page\n",
      " We got 1322 links\n",
      "Reached bottom of page\n",
      " We got 134 links\n",
      "Reached bottom of page\n",
      " We got 1954 links\n",
      "Reached bottom of page\n",
      " We got 948 links\n",
      "Reached bottom of page\n",
      " We got 114 links\n",
      "Reached bottom of page\n",
      " We got 228 links\n"
     ]
    }
   ],
   "source": [
    "# home_voa_lingala = rq.get(\"https://www.voalingala.com\") / https://www.voalingala.com/z/5744\n",
    "links_visit_rfi = {}\n",
    "load_more = \"btn-load-more alt more-loader\"\n",
    "\n",
    "seed = [\"http:///www.voalingala.com/z/5746\",\n",
    "        \"http:///www.voalingala.com/z/5745\",\n",
    "        \"http:///www.voalingala.com/z/5744\",\n",
    "        \"http:///www.voalingala.com/z/5776\",\n",
    "        \"http:///www.voalingala.com/z/5747\",\n",
    "        \"http:///www.voalingala.com/z/5748\",\n",
    "        \"http:///www.voalingala.com/z/5749\",\n",
    "        \"http:///www.voalingala.com/z/5760\",\n",
    "        \"http:///www.voalingala.com/z/5756\",\n",
    "        \"http:///www.voalingala.com/z/5753\",\n",
    "        \"http:///www.voalingala.com/z/5761\",\n",
    "        \"http:///www.voalingala.com/z/5759\",\n",
    "        \"http:///www.voalingala.com/z/5751\",\n",
    "        \"http:///www.voalingala.com/z/5757\",\n",
    "        \"http:///www.voalingala.com/z/5755\",\n",
    "        \"http:///www.voalingala.com/z/5758\",\n",
    "        \"http:///www.voalingala.com/z/5754\",\n",
    "        \"http:///www.voalingala.com/z/5752\"]\n",
    "\n",
    "for i in range(len(seed)):\n",
    "    links_visit_rfi = {}\n",
    "    load_more = \"btn-load-more alt more-loader\"\n",
    "    \n",
    "    driver = webdriver.Chrome(executable_path=\"./ChromeDriver/chromedriver_linux64/chromedriver\")\n",
    "    driver.get(seed[i])\n",
    "    while True:\n",
    "        try:\n",
    "            time.sleep(1)\n",
    "            loadmore = WebDriverWait(driver, 120).until(EC.visibility_of_element_located((By.CLASS_NAME, \"link-showMore\")))\n",
    "            loadmore.click()\n",
    "            time.sleep(1)\n",
    "        except Exception:\n",
    "            print(\"Reached bottom of page\")\n",
    "            break\n",
    "\n",
    "    soup_rfi = bs.BeautifulSoup(driver.page_source,'html.parser')\n",
    "    # home_rfi.text\n",
    "    # soup_rfi = bs.BeautifulSoup(home_rfi.text, 'html.parser')\n",
    "    news_links = soup_rfi.find_all('a', href=True)\n",
    "    print(f' We got {len(news_links)} links')\n",
    "    \n",
    "    news_final = []\n",
    "\n",
    "    for a in news_links:\n",
    "        if a.text:\n",
    "            link = a[\"href\"]\n",
    "            matching = re.match(r'^\\/a\\/\\w+', link) # r'^\\/z\\/\\d+\\w+, r'^\\/z\\/\\d+$\n",
    "            if matching:\n",
    "                new_link = 'http://www.voalingala.com'+link\n",
    "                if new_link not in news_final:\n",
    "                    news_final.append(new_link)\n",
    "    name = 'categorie_'+str(i)+'.txt'\n",
    "    save_data(news_final, name)"
   ]
  },
  {
   "cell_type": "code",
   "execution_count": 88,
   "metadata": {},
   "outputs": [
    {
     "data": {
      "text/plain": [
       "['categorie_15.txt',\n",
       " 'categorie_9.txt',\n",
       " 'categorie_12.txt',\n",
       " 'categorie_3.txt',\n",
       " 'categorie_1.txt',\n",
       " 'categorie_8.txt',\n",
       " 'categorie_11.txt',\n",
       " 'categorie_7.txt',\n",
       " 'categorie_16.txt',\n",
       " 'categorie_6.txt',\n",
       " 'categorie_13.txt',\n",
       " 'categorie_17.txt',\n",
       " 'categorie_14.txt',\n",
       " 'categorie_10.txt',\n",
       " 'categorie_0.txt',\n",
       " 'categorie_5.txt',\n",
       " 'categorie_4.txt',\n",
       " 'categorie_2.txt']"
      ]
     },
     "execution_count": 88,
     "metadata": {},
     "output_type": "execute_result"
    }
   ],
   "source": [
    "glob.glob(\"*.txt\")"
   ]
  },
  {
   "cell_type": "code",
   "execution_count": 85,
   "metadata": {},
   "outputs": [],
   "source": [
    "os.chdir(\"./Lingala_links/\")\n",
    "final_data = []\n",
    "for file in glob.glob(\"*.txt\"):\n",
    "    with open(file) as f:\n",
    "        for line in f:\n",
    "            if line not in final_data:\n",
    "                final_data.append(line)"
   ]
  },
  {
   "cell_type": "code",
   "execution_count": 90,
   "metadata": {},
   "outputs": [
    {
     "data": {
      "text/plain": [
       "1972"
      ]
     },
     "execution_count": 90,
     "metadata": {},
     "output_type": "execute_result"
    }
   ],
   "source": [
    "save_data(final_data, 'news_all_lingala.txt')\n",
    "len(final_data)"
   ]
  },
  {
   "cell_type": "code",
   "execution_count": 125,
   "metadata": {},
   "outputs": [],
   "source": [
    "# os.chdir(\"../\") # Back to the main repository, dont run twice\n",
    "urls = []\n",
    "def get_urls():\n",
    "    with open(\"./news_all_lingala.txt\") as f:\n",
    "        for line in f :\n",
    "            if line != '\\n':\n",
    "                urls.append(line[:-1]) # Remove the /n at the queue of the string :) "
   ]
  },
  {
   "cell_type": "code",
   "execution_count": 126,
   "metadata": {},
   "outputs": [],
   "source": [
    "get_urls()"
   ]
  },
  {
   "cell_type": "code",
   "execution_count": 127,
   "metadata": {},
   "outputs": [
    {
     "data": {
      "text/plain": [
       "['http://www.voalingala.com/a/jolino-makelele-alimbola-mokano-ya-mbulamatari-mpo-na-unikin/5236898.html',\n",
       " 'http://www.voalingala.com/a/tshisekedi-aboyi-unikin-ekangama/5235985.html',\n",
       " 'http://www.voalingala.com/a/bato-11-bakufi-na-boloko-ya-makala-mpo-na-bozangi-nkisi/5235621.html',\n",
       " 'http://www.voalingala.com/a/moko-na-ba-avocats-ya-babanyamulenge-ayanoli-mpo-etali-milice-gumino/5235345.html',\n",
       " 'http://www.voalingala.com/a/bapoliciers-babale-bakufi-na-mobulu-ya-ba-%C3%A9tudiants-na-unikin-(pnc)/5235327.html']"
      ]
     },
     "execution_count": 127,
     "metadata": {},
     "output_type": "execute_result"
    }
   ],
   "source": [
    "urls[:5]"
   ]
  },
  {
   "cell_type": "code",
   "execution_count": 173,
   "metadata": {},
   "outputs": [
    {
     "ename": "RuntimeError",
     "evalue": "This event loop is already running",
     "output_type": "error",
     "traceback": [
      "\u001b[0;31m---------------------------------------------------------------------------\u001b[0m",
      "\u001b[0;31mRuntimeError\u001b[0m                              Traceback (most recent call last)",
      "\u001b[0;32m<ipython-input-173-308461b28dfb>\u001b[0m in \u001b[0;36m<module>\u001b[0;34m\u001b[0m\n\u001b[1;32m     37\u001b[0m \u001b[0;34m\u001b[0m\u001b[0m\n\u001b[1;32m     38\u001b[0m \u001b[0mloop\u001b[0m \u001b[0;34m=\u001b[0m \u001b[0masyncio\u001b[0m\u001b[0;34m.\u001b[0m\u001b[0mget_event_loop\u001b[0m\u001b[0;34m(\u001b[0m\u001b[0;34m)\u001b[0m\u001b[0;34m\u001b[0m\u001b[0;34m\u001b[0m\u001b[0m\n\u001b[0;32m---> 39\u001b[0;31m \u001b[0mloop\u001b[0m\u001b[0;34m.\u001b[0m\u001b[0mrun_until_complete\u001b[0m\u001b[0;34m(\u001b[0m\u001b[0mmain\u001b[0m\u001b[0;34m(\u001b[0m\u001b[0;34m)\u001b[0m\u001b[0;34m)\u001b[0m\u001b[0;34m\u001b[0m\u001b[0;34m\u001b[0m\u001b[0m\n\u001b[0m",
      "\u001b[0;32m~/anaconda3/envs/aims/lib/python3.7/asyncio/base_events.py\u001b[0m in \u001b[0;36mrun_until_complete\u001b[0;34m(self, future)\u001b[0m\n\u001b[1;32m    564\u001b[0m         \u001b[0mfuture\u001b[0m\u001b[0;34m.\u001b[0m\u001b[0madd_done_callback\u001b[0m\u001b[0;34m(\u001b[0m\u001b[0m_run_until_complete_cb\u001b[0m\u001b[0;34m)\u001b[0m\u001b[0;34m\u001b[0m\u001b[0;34m\u001b[0m\u001b[0m\n\u001b[1;32m    565\u001b[0m         \u001b[0;32mtry\u001b[0m\u001b[0;34m:\u001b[0m\u001b[0;34m\u001b[0m\u001b[0;34m\u001b[0m\u001b[0m\n\u001b[0;32m--> 566\u001b[0;31m             \u001b[0mself\u001b[0m\u001b[0;34m.\u001b[0m\u001b[0mrun_forever\u001b[0m\u001b[0;34m(\u001b[0m\u001b[0;34m)\u001b[0m\u001b[0;34m\u001b[0m\u001b[0;34m\u001b[0m\u001b[0m\n\u001b[0m\u001b[1;32m    567\u001b[0m         \u001b[0;32mexcept\u001b[0m\u001b[0;34m:\u001b[0m\u001b[0;34m\u001b[0m\u001b[0;34m\u001b[0m\u001b[0m\n\u001b[1;32m    568\u001b[0m             \u001b[0;32mif\u001b[0m \u001b[0mnew_task\u001b[0m \u001b[0;32mand\u001b[0m \u001b[0mfuture\u001b[0m\u001b[0;34m.\u001b[0m\u001b[0mdone\u001b[0m\u001b[0;34m(\u001b[0m\u001b[0;34m)\u001b[0m \u001b[0;32mand\u001b[0m \u001b[0;32mnot\u001b[0m \u001b[0mfuture\u001b[0m\u001b[0;34m.\u001b[0m\u001b[0mcancelled\u001b[0m\u001b[0;34m(\u001b[0m\u001b[0;34m)\u001b[0m\u001b[0;34m:\u001b[0m\u001b[0;34m\u001b[0m\u001b[0;34m\u001b[0m\u001b[0m\n",
      "\u001b[0;32m~/anaconda3/envs/aims/lib/python3.7/asyncio/base_events.py\u001b[0m in \u001b[0;36mrun_forever\u001b[0;34m(self)\u001b[0m\n\u001b[1;32m    519\u001b[0m         \u001b[0mself\u001b[0m\u001b[0;34m.\u001b[0m\u001b[0m_check_closed\u001b[0m\u001b[0;34m(\u001b[0m\u001b[0;34m)\u001b[0m\u001b[0;34m\u001b[0m\u001b[0;34m\u001b[0m\u001b[0m\n\u001b[1;32m    520\u001b[0m         \u001b[0;32mif\u001b[0m \u001b[0mself\u001b[0m\u001b[0;34m.\u001b[0m\u001b[0mis_running\u001b[0m\u001b[0;34m(\u001b[0m\u001b[0;34m)\u001b[0m\u001b[0;34m:\u001b[0m\u001b[0;34m\u001b[0m\u001b[0;34m\u001b[0m\u001b[0m\n\u001b[0;32m--> 521\u001b[0;31m             \u001b[0;32mraise\u001b[0m \u001b[0mRuntimeError\u001b[0m\u001b[0;34m(\u001b[0m\u001b[0;34m'This event loop is already running'\u001b[0m\u001b[0;34m)\u001b[0m\u001b[0;34m\u001b[0m\u001b[0;34m\u001b[0m\u001b[0m\n\u001b[0m\u001b[1;32m    522\u001b[0m         \u001b[0;32mif\u001b[0m \u001b[0mevents\u001b[0m\u001b[0;34m.\u001b[0m\u001b[0m_get_running_loop\u001b[0m\u001b[0;34m(\u001b[0m\u001b[0;34m)\u001b[0m \u001b[0;32mis\u001b[0m \u001b[0;32mnot\u001b[0m \u001b[0;32mNone\u001b[0m\u001b[0;34m:\u001b[0m\u001b[0;34m\u001b[0m\u001b[0;34m\u001b[0m\u001b[0m\n\u001b[1;32m    523\u001b[0m             raise RuntimeError(\n",
      "\u001b[0;31mRuntimeError\u001b[0m: This event loop is already running"
     ]
    }
   ],
   "source": [
    "import asyncio\n",
    "import concurrent.futures\n",
    "import requests\n",
    "\n",
    "final_data = []\n",
    "\n",
    "def do_req(url):\n",
    "    return requests.get(url, headers=headers)\n",
    "\n",
    "async def main():\n",
    "\n",
    "    with concurrent.futures.ThreadPoolExecutor(max_workers=100) as executor:\n",
    "        loop = asyncio.get_event_loop()\n",
    "        futures = [\n",
    "            loop.run_in_executor(\n",
    "                executor, \n",
    "                do_req,\n",
    "                url\n",
    "            )\n",
    "            for url in urls\n",
    "        ]\n",
    "        for response in await asyncio.gather(*futures):\n",
    "            soup = bs.BeautifulSoup(response.text, 'html.parser')\n",
    "            # get title\n",
    "            title = soup.select_one('div.col-title h1')\n",
    "            description = soup.select_one('div.media-pholder--video  div.intro')\n",
    "            if not description:\n",
    "                description = soup.select_one('div#article-content .wsw')\n",
    "                \n",
    "            # news_body = news_body.text if news_body else ''\n",
    "            final_data.append({'title' : title, 'description' : description})\n",
    "\n",
    "\n",
    "loop = asyncio.get_event_loop()\n",
    "loop.run_until_complete(main())"
   ]
  },
  {
   "cell_type": "code",
   "execution_count": 162,
   "metadata": {},
   "outputs": [
    {
     "data": {
      "text/plain": [
       "'http://www.voalingala.com/a/moko-na-ba-avocats-ya-babanyamulenge-ayanoli-mpo-etali-milice-gumino/5235345.html'"
      ]
     },
     "execution_count": 162,
     "metadata": {},
     "output_type": "execute_result"
    }
   ],
   "source": [
    "urls[3]"
   ]
  },
  {
   "cell_type": "code",
   "execution_count": 16,
   "metadata": {},
   "outputs": [],
   "source": [
    "# for i in range(20):\n",
    "import requests as rq\n",
    "import bs4 as bs\n",
    "home_bbc = rq.get('https://www.voalingala.com/a/sassou-andimami-candidat-ya-pct-mpo-na-pr%C3%A9sidentielle-ya-2021/5226931.html')\n",
    "soup = bs.BeautifulSoup(home_bbc.text, 'html.parser')\n",
    "\n",
    "# get title\n",
    "title = soup.select_one('div.col-title h1')\n",
    "description = soup.select_one('div.media-pholder--video  div.intro')\n",
    "if not description:\n",
    "    description = soup.select_one('div#article-content .wsw')\n",
    "    \n",
    "\n",
    "# get description\n",
    "        \n",
    "# <div class=\"intro m-t-md\">\n",
    "# <p>Ba étudiants bazali kobima na ba homes ya Campus ya Université ya Kinshasa uto butu boleki kolanda mokano ya mbulamatari nsima na mobulu ya mokolo mwa yambo mpe ya mibale. VOA Lingala ebengaki molebeli ya mbulamatari mpo kolimbola mokano yango. Toyoka ministre Jolilono Makelele.</p>\n",
    "# </div>"
   ]
  },
  {
   "cell_type": "code",
   "execution_count": 17,
   "metadata": {},
   "outputs": [
    {
     "data": {
      "text/plain": [
       "('\\nSassou andimami candidat ya PCT mpo na présidentielle ya 2021\\n',\n",
       " '\\n\"Bato 2.588 bazalaki na Congrès bandimi bango banso ete camarade Denis Sassou N’Guesso azonga na bokambi ya comité central ya lingomba mpe azala candidat na biso na maponami ya mokonzi ya mboka na 2021,\" elobi Pierre Ngolo, kalaka mokonzi ya PCT oyo atiki ebonga na ye na Pierre Moussa.\\nM. Sassou azali na mibu tuku sambo na mitano, azali kokamba Congo-Brazzaville uto mibu tuku misato na mitano.\\n\"Tokanisi ete tokoki te kotika Denis Sassou N’Guesso. Esengelakii kaka kopona ye. Ezali mpo na mbongwana kati na maye mazali kokobai, ezali mpo na kimya mpe boboto na mboka,\" eyebisi na AFP Léonidas Mottom, questeur molandi na Assemblée nationale mpo na PCT.\\nBuku likonzi epesi M. Sassou nzela ya kopesa lisusu nkombo na ye na maponami ya 2021 mpe mpo na mbala ya suka, na 2026.\\nUPADS (Union panafricaine pour la démocratie sociale), lingomba monene ya opposition, esengaki jeudi ete maponami mapusana na 2023 mpe M. Sassou azala te.\\n \\n')"
      ]
     },
     "execution_count": 17,
     "metadata": {},
     "output_type": "execute_result"
    }
   ],
   "source": [
    "title.text, description.text"
   ]
  },
  {
   "cell_type": "code",
   "execution_count": 9,
   "metadata": {},
   "outputs": [
    {
     "ename": "FileNotFoundError",
     "evalue": "[Errno 2] No such file or directory: 'data_lig.json'",
     "output_type": "error",
     "traceback": [
      "\u001b[0;31m---------------------------------------------------------------------------\u001b[0m",
      "\u001b[0;31mFileNotFoundError\u001b[0m                         Traceback (most recent call last)",
      "\u001b[0;32m<ipython-input-9-1387f34d80b3>\u001b[0m in \u001b[0;36m<module>\u001b[0;34m\u001b[0m\n\u001b[0;32m----> 1\u001b[0;31m \u001b[0;32mwith\u001b[0m \u001b[0mopen\u001b[0m\u001b[0;34m(\u001b[0m\u001b[0;34m\"data_lig.json\"\u001b[0m\u001b[0;34m,\u001b[0m \u001b[0;34m\"r\"\u001b[0m\u001b[0;34m)\u001b[0m \u001b[0;32mas\u001b[0m \u001b[0mread_file\u001b[0m\u001b[0;34m:\u001b[0m\u001b[0;34m\u001b[0m\u001b[0;34m\u001b[0m\u001b[0m\n\u001b[0m\u001b[1;32m      2\u001b[0m     \u001b[0mdata\u001b[0m \u001b[0;34m=\u001b[0m \u001b[0mjson\u001b[0m\u001b[0;34m.\u001b[0m\u001b[0mload\u001b[0m\u001b[0;34m(\u001b[0m\u001b[0mread_file\u001b[0m\u001b[0;34m)\u001b[0m\u001b[0;34m\u001b[0m\u001b[0;34m\u001b[0m\u001b[0m\n",
      "\u001b[0;31mFileNotFoundError\u001b[0m: [Errno 2] No such file or directory: 'data_lig.json'"
     ]
    }
   ],
   "source": [
    "with open(\"data_lig.json\", \"r\") as read_file:\n",
    "    data = json.load(read_file)"
   ]
  },
  {
   "cell_type": "code",
   "execution_count": 12,
   "metadata": {},
   "outputs": [],
   "source": [
    "with open('sw_final.txt', 'w') as file:\n",
    "    for item in data:\n",
    "        join_title_description = item['title'] + '\\n\\n' + item['content'] + '\\n\\n'\n",
    "        file.write(join_title_description)"
   ]
  },
  {
   "cell_type": "code",
   "execution_count": null,
   "metadata": {},
   "outputs": [],
   "source": []
  }
 ],
 "metadata": {
  "kernelspec": {
   "display_name": "Python 3",
   "language": "python",
   "name": "python3"
  },
  "language_info": {
   "codemirror_mode": {
    "name": "ipython",
    "version": 3
   },
   "file_extension": ".py",
   "mimetype": "text/x-python",
   "name": "python",
   "nbconvert_exporter": "python",
   "pygments_lexer": "ipython3",
   "version": "3.7.4"
  }
 },
 "nbformat": 4,
 "nbformat_minor": 4
}
